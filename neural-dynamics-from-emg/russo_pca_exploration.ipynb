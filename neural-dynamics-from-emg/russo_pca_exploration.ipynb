{
 "metadata": {
  "language_info": {
   "codemirror_mode": {
    "name": "ipython",
    "version": 3
   },
   "file_extension": ".py",
   "mimetype": "text/x-python",
   "name": "python",
   "nbconvert_exporter": "python",
   "pygments_lexer": "ipython3",
   "version": "3.8.5-final"
  },
  "orig_nbformat": 2,
  "kernelspec": {
   "name": "python3",
   "display_name": "Python 3.8.5 64-bit (conda)",
   "metadata": {
    "interpreter": {
     "hash": "c5ff11f0b12bb0afb1c33b6a1572fb36469393a86c487e2b289e16a7461f0266"
    }
   }
  }
 },
 "nbformat": 4,
 "nbformat_minor": 2,
 "cells": [
  {
   "cell_type": "code",
   "execution_count": 20,
   "metadata": {},
   "outputs": [],
   "source": [
    "from pathlib import Path\n",
    "import scipy.io as sio\n",
    "import numpy as np\n",
    "import pandas as pd\n",
    "from sklearn.decomposition import PCA\n",
    "import matplotlib.pyplot as plt\n",
    "from mpl_toolkits.mplot3d import Axes3D"
   ]
  },
  {
   "cell_type": "code",
   "execution_count": 21,
   "metadata": {},
   "outputs": [],
   "source": [
    "DATA_PATH_C = Path(\"../data/russo-2018/Cousteau_tt.mat\")\n",
    "DATA_PATH_D = Path(\"../data/russo-2018/Drake_tt.mat\")\n",
    "data_c = sio.loadmat(DATA_PATH_C)['Pc'][0,0]"
   ]
  },
  {
   "cell_type": "code",
   "execution_count": 22,
   "metadata": {},
   "outputs": [],
   "source": [
    "# Separating the trial-averaged data into different rows of a Pandas dataframe for each task condition.\n",
    "# (The 20 different conditions were concatenated in the original dataset)\n",
    "\n",
    "# Pre-processed trial-average activity in the 116 M1 neurons.\n",
    "# Data was \"soft normalised\" using the formula response := response / (range(response) + 5). This reduces the normalised activity of weakly active neurons more than strongly active neurons.\n",
    "processed_neuron_activity = data_c[\"xA\"]\n",
    "\n",
    "# Time after trial start for each neural activity sample\n",
    "activity_time_after_start = data_c[\"mask\"][\"time\"][0][0][:,0]\n",
    "\n",
    "# Labels for different trial types:\n",
    "# distance: number of cycles of the pedal required\n",
    "# forward: whether the pedal had to be moved in the forward or backward direction\n",
    "# top_start: thether the pedal position started at the bottom or top of its range of positions\n",
    "distance = data_c[\"mask\"][\"dist\"][0][0][:,0]\n",
    "forward = data_c[\"mask\"][\"dir\"][0][0][:,0] == 1\n",
    "top_start = data_c[\"mask\"][\"pos\"][0][0][:,0] == 0.5\n",
    "\n",
    "values = []\n",
    "data = processed_neuron_activity\n",
    "timestamp = activity_time_after_start\n",
    "start_index = 0\n",
    "end_index = 0\n",
    "for i in range(len(timestamp)):\n",
    "    if i < len(timestamp) - 1:\n",
    "        if timestamp[i] <= timestamp[i+1]:\n",
    "            end_index += 1\n",
    "            continue\n",
    "    values.append([data[start_index:end_index+1], timestamp[start_index:end_index+1], forward[start_index], top_start[start_index], distance[start_index]])\n",
    "    end_index += 1\n",
    "    start_index = end_index\n",
    "\n",
    "separated_trials = pd.DataFrame(values, columns = [\"data\", \"time\", \"forward\", \"top_start\", \"cycles\"])"
   ]
  },
  {
   "cell_type": "code",
   "execution_count": 23,
   "metadata": {},
   "outputs": [
    {
     "output_type": "display_data",
     "data": {
      "text/plain": "Canvas(toolbar=Toolbar(toolitems=[('Home', 'Reset original view', 'home', 'home'), ('Back', 'Back to previous …",
      "application/vnd.jupyter.widget-view+json": {
       "version_major": 2,
       "version_minor": 0,
       "model_id": "f6adfb13c33a48ca909d8ba534bb6066"
      }
     },
     "metadata": {}
    }
   ],
   "source": [
    "# Soft normalised neural activity for two M1 neurons\n",
    "fig0 = plt.figure()\n",
    "ax0 = fig0.add_subplot(1,1,1)\n",
    "ax0.plot(separated_trials[\"time\"][3], separated_trials[\"data\"][3][:,10], alpha=.6)\n",
    "ax0.plot(separated_trials[\"time\"][3], separated_trials[\"data\"][3][:,5], alpha=.6)\n",
    "ax0.set(xlabel='Time After Trial Start (s)', ylabel='Neuron Activity (Processed)')\n",
    "plt.show()"
   ]
  },
  {
   "cell_type": "code",
   "execution_count": 24,
   "metadata": {},
   "outputs": [
    {
     "output_type": "display_data",
     "data": {
      "text/plain": "Canvas(toolbar=Toolbar(toolitems=[('Home', 'Reset original view', 'home', 'home'), ('Back', 'Back to previous …",
      "application/vnd.jupyter.widget-view+json": {
       "version_major": 2,
       "version_minor": 0,
       "model_id": "c9751f019a2042249a90debd69719594"
      }
     },
     "metadata": {}
    },
    {
     "output_type": "execute_result",
     "data": {
      "text/plain": [
       "0.3539967715903748"
      ]
     },
     "metadata": {},
     "execution_count": 24
    }
   ],
   "source": [
    "%matplotlib widget\n",
    "\n",
    "# Data from monkey C showing similar results after PCA to those in figure 4.\n",
    "# Exact replication of that figure was not possible, as it is unclear which data was used to produce it.\n",
    "chosen_data = separated_trials[\"data\"][3][(separated_trials[\"time\"][3] < 2) & (separated_trials[\"time\"][3] > 1)]\n",
    "\n",
    "# Performing the principle components analysis on the selected data\n",
    "pca = PCA(n_components = 3)\n",
    "pca.fit(chosen_data)\n",
    "\n",
    "# Map the 116-dimensional trial-averaged data from one condition into the 3-dimensional PCA coordinate system\n",
    "X = pca.transform(separated_trials[\"data\"][3])\n",
    "\n",
    "# Plot the trajectory in the PCA coordinate system \n",
    "fig = plt.figure()\n",
    "ax = fig.add_subplot(2,1,1, projection='3d')\n",
    "\n",
    "ax.plot(X[:, 0], X[:, 1], X[:, 2], alpha=.9)\n",
    "ax.set(xlabel='PC1', ylabel='PC2', zlabel=\"PC3\")\n",
    "\n",
    "ax2 = fig.add_subplot(2,1,2)\n",
    "ax2.plot(X[:, 0], X[:, 1], )\n",
    "ax2.set(xlabel='PC1', ylabel='PC2', aspect=\"equal\")\n",
    "\n",
    "plt.show()\n",
    "\n",
    "sum(pca.explained_variance_ratio_[1:3])"
   ]
  }
 ]
}